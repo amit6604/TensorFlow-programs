{
  "nbformat": 4,
  "nbformat_minor": 0,
  "metadata": {
    "colab": {
      "name": "Logistic Regression.ipynb",
      "version": "0.3.2",
      "provenance": [],
      "include_colab_link": true
    },
    "kernelspec": {
      "name": "python3",
      "display_name": "Python 3"
    }
  },
  "cells": [
    {
      "cell_type": "markdown",
      "metadata": {
        "id": "view-in-github",
        "colab_type": "text"
      },
      "source": [
        "[View in Colaboratory](https://colab.research.google.com/github/amit6604/TensofFlow-programs/blob/master/Logistic_Regression.ipynb)"
      ]
    },
    {
      "metadata": {
        "id": "aC1E_bXvH58d",
        "colab_type": "code",
        "colab": {}
      },
      "cell_type": "code",
      "source": [
        "# Importing Libraries\n",
        "\n",
        "import numpy as np\n",
        "import seaborn as sns\n",
        "import pandas as pd\n",
        "import matplotlib.pyplot as plt\n",
        "import tensorflow as tf\n",
        "sns.set(style='whitegrid')"
      ],
      "execution_count": 0,
      "outputs": []
    },
    {
      "metadata": {
        "id": "kl-IMiqqIzQV",
        "colab_type": "text"
      },
      "cell_type": "markdown",
      "source": [
        "# Reading the IRIS Dataset"
      ]
    },
    {
      "metadata": {
        "id": "GEdIC6soI6Bq",
        "colab_type": "code",
        "colab": {}
      },
      "cell_type": "code",
      "source": [
        "from sklearn.datasets import load_iris\n",
        "data = load_iris()\n",
        "\n",
        "iris = pd.DataFrame(data.data, columns=['SepalLengthCm', 'SepalWidthCm', 'PetalLengthCm', 'PetalWidthCm'])\n",
        "iris[\"Species\"] = data.target"
      ],
      "execution_count": 0,
      "outputs": []
    },
    {
      "metadata": {
        "id": "PE06gaATXM67",
        "colab_type": "code",
        "colab": {}
      },
      "cell_type": "code",
      "source": [
        "# Species 'Iris-setosa' as 0\n",
        "# Species 'Iris-versicolor' as 1\n",
        "\n",
        "iris  = iris[:101]"
      ],
      "execution_count": 0,
      "outputs": []
    },
    {
      "metadata": {
        "id": "4gMGSkuuboom",
        "colab_type": "code",
        "colab": {
          "base_uri": "https://localhost:8080/",
          "height": 380
        },
        "outputId": "c4ef8a27-34a3-4d66-b6a8-9a4aedbb3f71"
      },
      "cell_type": "code",
      "source": [
        "plt.scatter(iris[:50].SepalLengthCm, iris[:50].SepalWidthCm, label=\"Iris-Setosa\", color=\"r\")\n",
        "plt.scatter(iris[50:100].SepalLengthCm, iris[50:100].SepalWidthCm, label=\"Iris-versicolor\", color=\"g\")\n",
        "plt.xlabel(\"Sepal Length\")\n",
        "plt.ylabel(\"Sepal Width\")\n",
        "plt.legend(loc = \"best\")"
      ],
      "execution_count": 4,
      "outputs": [
        {
          "output_type": "execute_result",
          "data": {
            "text/plain": [
              "<matplotlib.legend.Legend at 0x7f14a5b6ca58>"
            ]
          },
          "metadata": {
            "tags": []
          },
          "execution_count": 4
        },
        {
          "output_type": "display_data",
          "data": {
            "image/png": "[encoded data removed]",
            "text/plain": [
              "<matplotlib.figure.Figure at 0x7f14a718abe0>"
            ]
          },
          "metadata": {
            "tags": []
          }
        }
      ]
    },
    {
      "metadata": {
        "id": "v0UqzzRkeo5G",
        "colab_type": "code",
        "colab": {}
      },
      "cell_type": "code",
      "source": [
        "# Drop labels \n",
        "X = iris.drop(labels=[\"Species\"], axis=1).values\n",
        "y = iris.Species.values"
      ],
      "execution_count": 0,
      "outputs": []
    },
    {
      "metadata": {
        "id": "YgjnYTuee-y2",
        "colab_type": "text"
      },
      "cell_type": "markdown",
      "source": [
        "# Splitting the dataset\n",
        "* 80 % for training Set\n",
        "* 20 % for testing Set"
      ]
    },
    {
      "metadata": {
        "id": "rg3-oY4GhNhu",
        "colab_type": "code",
        "colab": {}
      },
      "cell_type": "code",
      "source": [
        "# set seed for numpy and tensorflow\n",
        "# set for reproducible results\n",
        "\n",
        "seed = 6\n",
        "np.random.seed(seed)\n",
        "tf.set_random_seed(seed)"
      ],
      "execution_count": 0,
      "outputs": []
    },
    {
      "metadata": {
        "id": "XdITNytSheMX",
        "colab_type": "code",
        "colab": {}
      },
      "cell_type": "code",
      "source": [
        "# set replace = False, Avoid double Sampling\n",
        "train_index = np.random.choice(len(X), round(len(X) * .80), replace=False)"
      ],
      "execution_count": 0,
      "outputs": []
    },
    {
      "metadata": {
        "id": "sWaec69-h2-W",
        "colab_type": "code",
        "colab": {}
      },
      "cell_type": "code",
      "source": [
        "test_index = np.array(list(set(range(len(X))) - set(train_index)))\n",
        "train_X = X[train_index]\n",
        "train_y = y[train_index]\n",
        "test_X = X[test_index]\n",
        "test_y = y[test_index]"
      ],
      "execution_count": 0,
      "outputs": []
    },
    {
      "metadata": {
        "id": "4PX15HLiiuMV",
        "colab_type": "code",
        "colab": {}
      },
      "cell_type": "code",
      "source": [
        "def min_max_normalized(data):\n",
        "  col_max = np.max(data, axis=0)\n",
        "  col_min = np.min(data, axis=0)\n",
        "  return np.divide(data - col_min, col_max - col_min)"
      ],
      "execution_count": 0,
      "outputs": []
    },
    {
      "metadata": {
        "id": "5ETiRZ15jjlV",
        "colab_type": "text"
      },
      "cell_type": "markdown",
      "source": [
        "# Normalizing Dateset"
      ]
    },
    {
      "metadata": {
        "id": "1Dvqugrtjn1W",
        "colab_type": "code",
        "colab": {}
      },
      "cell_type": "code",
      "source": [
        "train_X = min_max_normalized(train_X)\n",
        "test_X = min_max_normalized(test_X)"
      ],
      "execution_count": 0,
      "outputs": []
    },
    {
      "metadata": {
        "id": "hAgVHdaBjvrk",
        "colab_type": "text"
      },
      "cell_type": "markdown",
      "source": [
        "# Building the model Framework"
      ]
    },
    {
      "metadata": {
        "id": "aA8QZ7Jcj364",
        "colab_type": "code",
        "colab": {}
      },
      "cell_type": "code",
      "source": [
        "# Begin building the model Framework\n",
        "# Decalare the variables that need to be learned and initialization\n",
        "# There are 4 features here.\n",
        "\n",
        "W = tf.Variable(tf.random_normal(shape=[4, 1]))\n",
        "b = tf.Variable(tf.random_normal(shape=[1, 1]))\n",
        "init = tf.global_variables_initializer()\n",
        "sess = tf.Session()\n",
        "sess.run(init)"
      ],
      "execution_count": 0,
      "outputs": []
    },
    {
      "metadata": {
        "id": "zdpddWLpknn0",
        "colab_type": "code",
        "colab": {}
      },
      "cell_type": "code",
      "source": [
        "# Define the Placeholders\n",
        "\n",
        "X = tf.placeholder(dtype=tf.float32, shape=[None, 4])\n",
        "y = tf.placeholder(dtype=tf.float32, shape=[None, 1])\n",
        "\n",
        "# Declare the model to learn\n",
        "\n",
        "pred = tf.matmul(X, W) + b\n",
        "\n",
        "# Declare the loss function\n",
        "# Using Sigmoid cross-entropy loss function\n",
        "\n",
        "loss = tf.reduce_mean(tf.nn.sigmoid_cross_entropy_with_logits(logits = pred, labels= y))"
      ],
      "execution_count": 0,
      "outputs": []
    },
    {
      "metadata": {
        "id": "acs_ehaQllk0",
        "colab_type": "code",
        "colab": {}
      },
      "cell_type": "code",
      "source": [
        "# Defining the learning rate and batch size\n",
        "\n",
        "learning_rate = 0.003\n",
        "batch_size = 32\n",
        "epochs = 2000\n",
        "\n",
        "# Defining the optimizer\n",
        "\n",
        "optimizer = tf.train.GradientDescentOptimizer(learning_rate).minimize(loss)\n"
      ],
      "execution_count": 0,
      "outputs": []
    },
    {
      "metadata": {
        "id": "PW9qrIsxmCbU",
        "colab_type": "code",
        "colab": {}
      },
      "cell_type": "code",
      "source": [
        "# Define the accuracy\n",
        "# The default threshold is 0.5, rounded off directly\n",
        "\n",
        "prediction = tf.round(tf.sigmoid(pred))\n",
        "\n",
        "accuracy = tf.reduce_mean(tf.cast(tf.equal(prediction, y), dtype=tf.float32))"
      ],
      "execution_count": 0,
      "outputs": []
    },
    {
      "metadata": {
        "id": "OmfhJBMKml_0",
        "colab_type": "code",
        "colab": {
          "base_uri": "https://localhost:8080/",
          "height": 387
        },
        "outputId": "e47ebe0b-9f49-47d6-c430-da8246ef0f85"
      },
      "cell_type": "code",
      "source": [
        "# Model training\n",
        "\n",
        "loss_trace = []\n",
        "train_acc = []\n",
        "test_acc = []\n",
        "\n",
        "for epoch in range(epochs):\n",
        "  batch_index = np.random.choice(len(train_X), size=batch_size)\n",
        "  batch_train_X = train_X[batch_index]\n",
        "  batch_train_y = np.matrix(train_y[batch_index]).T\n",
        "  sess.run(optimizer, feed_dict={X: batch_train_X, y: batch_train_y})\n",
        "  training_loss = sess.run(loss, feed_dict={X: batch_train_X, y: batch_train_y})\n",
        "  training_acc = sess.run(accuracy, feed_dict={X: train_X, y: np.matrix(train_y).T})\n",
        "  testing_acc = sess.run(accuracy, feed_dict={X: test_X, y: np.matrix(test_y).T})\n",
        "  loss_trace.append(training_loss)\n",
        "  train_acc.append(training_acc)\n",
        "  test_acc.append(testing_acc)\n",
        "  \n",
        "  if epoch% 100 ==0:\n",
        "    print('Epoch: {:4d} loss: {:5f} training_acc: {:5f} testing_acc: {:5f}'. format(epoch, training_loss, training_acc, testing_acc))\n",
        "  \n",
        " \n",
        "  "
      ],
      "execution_count": 18,
      "outputs": [
        {
          "output_type": "stream",
          "text": [
            "Epoch:    0 loss: 0.690923 training_acc: 0.518519 testing_acc: 0.400000\n",
            "Epoch:  100 loss: 0.692004 training_acc: 0.518519 testing_acc: 0.400000\n",
            "Epoch:  200 loss: 0.684322 training_acc: 0.518519 testing_acc: 0.400000\n",
            "Epoch:  300 loss: 0.641782 training_acc: 0.518519 testing_acc: 0.450000\n",
            "Epoch:  400 loss: 0.702124 training_acc: 0.543210 testing_acc: 0.450000\n",
            "Epoch:  500 loss: 0.660675 training_acc: 0.604938 testing_acc: 0.450000\n",
            "Epoch:  600 loss: 0.631616 training_acc: 0.691358 testing_acc: 0.650000\n",
            "Epoch:  700 loss: 0.634663 training_acc: 0.839506 testing_acc: 0.700000\n",
            "Epoch:  800 loss: 0.602137 training_acc: 0.888889 testing_acc: 0.800000\n",
            "Epoch:  900 loss: 0.600136 training_acc: 0.913580 testing_acc: 0.850000\n",
            "Epoch: 1000 loss: 0.578382 training_acc: 0.950617 testing_acc: 0.850000\n",
            "Epoch: 1100 loss: 0.564973 training_acc: 0.975309 testing_acc: 1.000000\n",
            "Epoch: 1200 loss: 0.564534 training_acc: 0.987654 testing_acc: 1.000000\n",
            "Epoch: 1300 loss: 0.538561 training_acc: 0.975309 testing_acc: 1.000000\n",
            "Epoch: 1400 loss: 0.512667 training_acc: 0.975309 testing_acc: 1.000000\n",
            "Epoch: 1500 loss: 0.521059 training_acc: 0.975309 testing_acc: 1.000000\n",
            "Epoch: 1600 loss: 0.497769 training_acc: 0.975309 testing_acc: 1.000000\n",
            "Epoch: 1700 loss: 0.516513 training_acc: 0.987654 testing_acc: 1.000000\n",
            "Epoch: 1800 loss: 0.497752 training_acc: 0.987654 testing_acc: 1.000000\n",
            "Epoch: 1900 loss: 0.494699 training_acc: 0.987654 testing_acc: 1.000000\n"
          ],
          "name": "stdout"
        }
      ]
    },
    {
      "metadata": {
        "id": "5SFD2nSpnE1E",
        "colab_type": "text"
      },
      "cell_type": "markdown",
      "source": [
        "# Visualization Cross Entropy Loss"
      ]
    },
    {
      "metadata": {
        "id": "9ZUhpBoiwRR6",
        "colab_type": "code",
        "colab": {
          "base_uri": "https://localhost:8080/",
          "height": 376
        },
        "outputId": "560dc4fe-7755-4e3e-ed5b-310e8ee5f175"
      },
      "cell_type": "code",
      "source": [
        "plt.plot(loss_trace)\n",
        "plt.title(\"Cross Entropy Loss\")\n",
        "plt.xlabel(\"Epoch\")\n",
        "plt.ylabel(\"Loss\")\n",
        "plt.show()"
      ],
      "execution_count": 19,
      "outputs": [
        {
          "output_type": "display_data",
          "data": {
            "image/png": "[encoded data removed]",
            "text/plain": [
              "<matplotlib.figure.Figure at 0x7f14a01a1ac8>"
            ]
          },
          "metadata": {
            "tags": []
          }
        }
      ]
    },
    {
      "metadata": {
        "id": "GUHi0F5awf_s",
        "colab_type": "text"
      },
      "cell_type": "markdown",
      "source": [
        "# Visualization Accuracy"
      ]
    },
    {
      "metadata": {
        "id": "ABpbZpRBwlqa",
        "colab_type": "code",
        "colab": {
          "base_uri": "https://localhost:8080/",
          "height": 376
        },
        "outputId": "b6379f5b-3c84-4dbb-d64b-7282dd706478"
      },
      "cell_type": "code",
      "source": [
        "plt.plot(train_acc, 'b-', label=\"Training Accuracy\")\n",
        "plt.plot(test_acc, 'k-', label=\"Testing Accuracy\")\n",
        "plt.xlabel(\"Epoch\")\n",
        "plt.ylabel(\"Accuracy\")\n",
        "plt.title(\"Train vs Test Accuracy\")\n",
        "plt.legend(loc=\"best\")\n",
        "plt.show()"
      ],
      "execution_count": 20,
      "outputs": [
        {
          "output_type": "display_data",
          "data": {
            "image/png": "[encoded data removed]",
            "text/plain": [
              "<matplotlib.figure.Figure at 0x7f14a01327b8>"
            ]
          },
          "metadata": {
            "tags": []
          }
        }
      ]
    },
    {
      "metadata": {
        "id": "17f4L_yQxDys",
        "colab_type": "code",
        "colab": {}
      },
      "cell_type": "code",
      "source": [
        ""
      ],
      "execution_count": 0,
      "outputs": []
    }
  ]
}