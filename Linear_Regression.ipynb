{
  "nbformat": 4,
  "nbformat_minor": 0,
  "metadata": {
    "colab": {
      "name": "Linear Regression.ipynb",
      "version": "0.3.2",
      "provenance": [],
      "include_colab_link": true
    },
    "kernelspec": {
      "name": "python3",
      "display_name": "Python 3"
    }
  },
  "cells": [
    {
      "cell_type": "markdown",
      "metadata": {
        "id": "view-in-github",
        "colab_type": "text"
      },
      "source": [
        "[View in Colaboratory](https://colab.research.google.com/github/amit6604/TensofFlow-programs/blob/master/Linear_Regression.ipynb)"
      ]
    },
    {
      "metadata": {
        "id": "PkdO79WIddw0",
        "colab_type": "text"
      },
      "cell_type": "markdown",
      "source": [
        "# Introduction\n",
        "\n",
        "Linear regression is probably the first machine learning algorithm that most people learn when starting off in this field. Learning this model is a great way to get introduced to the idea of supervised learning.\n",
        "\n",
        "We have some (input, output) pairs which we denote as (xi,yi)\n",
        "and we have n of these, so i∈[1...n]. We want to learn a function f:x→y that maps inputs to outputs. "
      ]
    },
    {
      "metadata": {
        "id": "ir5vYz07fkb7",
        "colab_type": "code",
        "colab": {}
      },
      "cell_type": "code",
      "source": [
        "# Importing libraries\n",
        "import matplotlib.pyplot as plt\n",
        "import tensorflow as tf\n",
        "import numpy as np\n",
        "\n",
        "from numpy import genfromtxt\n",
        "from sklearn.datasets import load_boston\n",
        "from sklearn.preprocessing import normalize\n",
        "from sklearn.model_selection import train_test_split"
      ],
      "execution_count": 0,
      "outputs": []
    },
    {
      "metadata": {
        "id": "3FpgWAcBFaQV",
        "colab_type": "text"
      },
      "cell_type": "markdown",
      "source": [
        "# Inputs and Outputs\n",
        "\n",
        "Our goal is to learn a function $ f: x \\rightarrow{} y$ that maps information about a house to the house's price prediction. With linear regression, our function $f$ is just a ** linear combination ** of our inputs. That means our output is just the sum of our inputs, but each of our inputs are weighted by some value: \n",
        "\n",
        "$$f(x) = w_1 x_1 + w_2 x_2 + ... w_{13}x_{13} + b = \\sum_{j=1}^{13} w_j x_j + b$$"
      ]
    },
    {
      "metadata": {
        "id": "nBZ9W8Nnhn-b",
        "colab_type": "code",
        "colab": {
          "base_uri": "https://localhost:8080/",
          "height": 36
        },
        "outputId": "71850993-58a9-4d05-810f-429b9beb5160"
      },
      "cell_type": "code",
      "source": [
        "features, labels = load_boston(True)\n",
        "features = normalize(features) # to standardize data\n",
        "\n",
        "labels = labels.reshape((labels.shape[0], 1)) \n",
        "\n",
        "X_train, X_test, y_train, y_test = train_test_split(features, labels, test_size=0.2, random_state=23)\n",
        "print(features.shape)"
      ],
      "execution_count": 40,
      "outputs": [
        {
          "output_type": "stream",
          "text": [
            "(506, 13)\n"
          ],
          "name": "stdout"
        }
      ]
    },
    {
      "metadata": {
        "id": "Wj-thg1Kj_Xo",
        "colab_type": "code",
        "colab": {}
      },
      "cell_type": "code",
      "source": [
        "learning_rate = 0.5\n",
        "training_epochs = 5000\n",
        "n_dim = features.shape[1]\n",
        "\n",
        "X = tf.placeholder(tf.float32, [None, n_dim])\n",
        "y = tf.placeholder(tf.float32, [None, 1])\n",
        "W = tf.Variable(tf.random_normal([n_dim, 1]))\n",
        "b = tf.Variable(tf.random_normal([1]))\n",
        "\n",
        "init = tf.global_variables_initializer()"
      ],
      "execution_count": 0,
      "outputs": []
    },
    {
      "metadata": {
        "id": "Uhx7-ZU5F1xQ",
        "colab_type": "text"
      },
      "cell_type": "markdown",
      "source": [
        "# Loss Functions and Optimizations\n",
        "Next, we will initialize this linear model with initially random weights. As a result, our model won't be able to predict house prices very well at all. Learning is the process of adjusting these parameters so that our model's accuracy increases. In order to do this, we need to mathematically quantify how \"bad\" our model is currently. We can do this by calculating how off each prediction is from the actual value: \n",
        "\n",
        "$$ L = \\frac{1}{N} \\sum_{i=1}^{N} (y_i - f(x_i))^2 $$\n",
        "\n",
        "If we take the derivative of this function with respect to each of the weights $w$, we will know how much to \"adjust\" each weight $w$ by in order to make our function more accurate. This is an algorithm called ** gradient descent **. \n",
        "\n",
        "If you know some multivariable calculus, you can determine that the derivative with respect to the $i$th weight is $$ \\frac{dL}{dw_i} = \\frac{-2}{N} \\sum_{i=1}^{N} (y_i - f(x_i))x_i $$"
      ]
    },
    {
      "metadata": {
        "id": "1eyOEhfTk5yX",
        "colab_type": "code",
        "colab": {}
      },
      "cell_type": "code",
      "source": [
        "y_pred = tf.matmul(X,W) + b\n",
        "loss = tf.reduce_mean(tf.square(y_pred - y))\n",
        "optimizer = tf.train.GradientDescentOptimizer(learning_rate).minimize(loss)"
      ],
      "execution_count": 0,
      "outputs": []
    },
    {
      "metadata": {
        "id": "IoEvjeo_2ZDJ",
        "colab_type": "text"
      },
      "cell_type": "markdown",
      "source": [
        "# Training"
      ]
    },
    {
      "metadata": {
        "id": "TiWr5dZJlaAW",
        "colab_type": "code",
        "colab": {
          "base_uri": "https://localhost:8080/",
          "height": 1000
        },
        "outputId": "5439755f-55a3-4388-cc3f-afeb7df233c7"
      },
      "cell_type": "code",
      "source": [
        "sess = tf.InteractiveSession()\n",
        "sess.run(init)\n",
        "\n",
        "\n",
        "for epoch in range(training_epochs):\n",
        "    sess.run(optimizer, feed_dict={X:X_train, y:y_train})\n",
        "    if (epoch % 100 ==0):\n",
        "      print('Loss:', loss.eval(feed_dict={X: X_train,y: y_train}))"
      ],
      "execution_count": 45,
      "outputs": [
        {
          "output_type": "stream",
          "text": [
            "/usr/local/lib/python3.6/dist-packages/tensorflow/python/client/session.py:1645: UserWarning: An interactive session is already active. This can cause out-of-memory errors in some cases. You must explicitly call `InteractiveSession.close()` to release resources held by the other session(s).\n",
            "  warnings.warn('An interactive session is already active. This can '\n"
          ],
          "name": "stderr"
        },
        {
          "output_type": "stream",
          "text": [
            "Loss: 445.49432\n",
            "Loss: 60.92518\n",
            "Loss: 59.14323\n",
            "Loss: 57.920425\n",
            "Loss: 57.0175\n",
            "Loss: 56.30254\n",
            "Loss: 55.701805\n",
            "Loss: 55.173428\n",
            "Loss: 54.693077\n",
            "Loss: 54.246292\n",
            "Loss: 53.824184\n",
            "Loss: 53.4211\n",
            "Loss: 53.033333\n",
            "Loss: 52.65833\n",
            "Loss: 52.294304\n",
            "Loss: 51.939964\n",
            "Loss: 51.594322\n",
            "Loss: 51.256653\n",
            "Loss: 50.92636\n",
            "Loss: 50.60299\n",
            "Loss: 50.286167\n",
            "Loss: 49.97559\n",
            "Loss: 49.670986\n",
            "Loss: 49.372147\n",
            "Loss: 49.07888\n",
            "Loss: 48.791016\n",
            "Loss: 48.508408\n",
            "Loss: 48.23092\n",
            "Loss: 47.958427\n",
            "Loss: 47.69081\n",
            "Loss: 47.42797\n",
            "Loss: 47.169796\n",
            "Loss: 46.916203\n",
            "Loss: 46.667088\n",
            "Loss: 46.422363\n",
            "Loss: 46.181953\n",
            "Loss: 45.945766\n",
            "Loss: 45.713722\n",
            "Loss: 45.485744\n",
            "Loss: 45.261757\n",
            "Loss: 45.041683\n",
            "Loss: 44.825462\n",
            "Loss: 44.61301\n",
            "Loss: 44.40426\n",
            "Loss: 44.199142\n",
            "Loss: 43.997593\n",
            "Loss: 43.799553\n",
            "Loss: 43.604946\n",
            "Loss: 43.413715\n",
            "Loss: 43.225807\n"
          ],
          "name": "stdout"
        }
      ]
    },
    {
      "metadata": {
        "id": "Gw4DS6ZsGKkt",
        "colab_type": "text"
      },
      "cell_type": "markdown",
      "source": [
        "# Data Visualization"
      ]
    },
    {
      "metadata": {
        "id": "rgdBpd9n2_pS",
        "colab_type": "code",
        "colab": {
          "base_uri": "https://localhost:8080/",
          "height": 380
        },
        "outputId": "dcb6c8db-983f-4740-c141-2785163a5977"
      },
      "cell_type": "code",
      "source": [
        "pred_y = sess.run(y_pred, feed_dict={X: X_test})\n",
        "mse = tf.reduce_mean(tf.square(pred_y - y_test))\n",
        "print(\"MSE: %.4f\" % sess.run(mse)) \n",
        "\n",
        "fig, ax = plt.subplots()\n",
        "ax.scatter(y_test, pred_y)\n",
        "ax.plot([y_test.min(), y_test.max()], [y_test.min(), y_test.max()], 'k--', lw=3)\n",
        "ax.set_xlabel('Measured')\n",
        "ax.set_ylabel('Predicted')\n",
        "plt.show()"
      ],
      "execution_count": 47,
      "outputs": [
        {
          "output_type": "stream",
          "text": [
            "MSE: 48.0630\n"
          ],
          "name": "stdout"
        },
        {
          "output_type": "display_data",
          "data": {
            "image/png": "[encoded data removed]",
            "text/plain": [
              "<matplotlib.figure.Figure at 0x7f954214f5f8>"
            ]
          },
          "metadata": {
            "tags": []
          }
        }
      ]
    },
    {
      "metadata": {
        "id": "Fxh3ylBrFNKY",
        "colab_type": "code",
        "colab": {}
      },
      "cell_type": "code",
      "source": [
        ""
      ],
      "execution_count": 0,
      "outputs": []
    }
  ]
}