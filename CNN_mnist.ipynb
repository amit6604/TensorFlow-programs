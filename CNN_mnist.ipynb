{
  "nbformat": 4,
  "nbformat_minor": 0,
  "metadata": {
    "colab": {
      "name": "CNN_mnist.ipynb",
      "version": "0.3.2",
      "provenance": []
    },
    "kernelspec": {
      "name": "python3",
      "display_name": "Python 3"
    },
    "accelerator": "GPU"
  },
  "cells": [
    {
      "metadata": {
        "id": "qGammhs58oU1",
        "colab_type": "text"
      },
      "cell_type": "markdown",
      "source": [
        "# Introduction\n",
        "\n",
        "In this tutorial, we'll be walking through the Tensorflow code behind creating a convolutional neural network.  A CNN tutorial from the Tensorflow docs can also be found [here](https://www.tensorflow.org/tutorials/deep_cnn)."
      ]
    },
    {
      "metadata": {
        "id": "8nOKpyuw9OqC",
        "colab_type": "code",
        "colab": {
          "base_uri": "https://localhost:8080/",
          "height": 36
        },
        "outputId": "0fee7383-b17c-4241-cfe3-cb195c8e25cd"
      },
      "cell_type": "code",
      "source": [
        "# Importing libraries\n",
        "\n",
        "import numpy as np\n",
        "import keras\n",
        "from keras.models import Sequential\n",
        "from keras.layers import Dense, Dropout, Flatten, MaxPooling2D, Conv2D\n",
        "from keras import backend as K\n",
        "from keras.utils import np_utils , normalize, to_categorical\n",
        "from matplotlib import pyplot as plt"
      ],
      "execution_count": 1,
      "outputs": [
        {
          "output_type": "stream",
          "text": [
            "Using TensorFlow backend.\n"
          ],
          "name": "stderr"
        }
      ]
    },
    {
      "metadata": {
        "id": "-Vyn5kWj9c6x",
        "colab_type": "text"
      },
      "cell_type": "markdown",
      "source": [
        "# Loading Mnist data"
      ]
    },
    {
      "metadata": {
        "id": "bz53IP1u9sxu",
        "colab_type": "code",
        "colab": {
          "base_uri": "https://localhost:8080/",
          "height": 54
        },
        "outputId": "784557d6-5e83-473a-f31e-1f5b03dfcc74"
      },
      "cell_type": "code",
      "source": [
        "# Importing mnist dataset\n",
        "from keras.datasets import mnist\n",
        "\n",
        "(X_train, y_train), (X_test, y_test) = mnist.load_data()\n",
        "\n",
        "\n",
        "X_train = X_train.reshape(X_train.shape[0], 28, 28, 1) # reshaping image into 28x28 pixel\n",
        "X_test = X_test.reshape(X_test.shape[0], 28, 28, 1)\n",
        "\n",
        "X_train = X_train.astype('float32')\n",
        "X_test = X_test.astype('float32')\n",
        "\n",
        "X_train = normalize(X_train, axis=1)\n",
        "X_test = normalize(X_test, axis=1)\n",
        "\n"
      ],
      "execution_count": 2,
      "outputs": [
        {
          "output_type": "stream",
          "text": [
            "Downloading data from https://s3.amazonaws.com/img-datasets/mnist.npz\n",
            "11493376/11490434 [==============================] - 2s 0us/step\n"
          ],
          "name": "stdout"
        }
      ]
    },
    {
      "metadata": {
        "id": "ApXsEkAj-xoX",
        "colab_type": "code",
        "colab": {}
      },
      "cell_type": "code",
      "source": [
        "# np.utils.to_categorical is used to convert array of labeled data(from 0 to nb_classes-1) to one-hot vector. \n",
        "y_train = np_utils.to_categorical(y_train, 10)\n",
        "y_test = np_utils.to_categorical(y_test, 10)\n",
        "\n"
      ],
      "execution_count": 0,
      "outputs": []
    },
    {
      "metadata": {
        "id": "wTr5m5FT_3e0",
        "colab_type": "code",
        "colab": {
          "base_uri": "https://localhost:8080/",
          "height": 73
        },
        "outputId": "09f592c8-b1a1-47e5-98c0-781bb76cef7f"
      },
      "cell_type": "code",
      "source": [
        "# printing shape of input train and test\n",
        "print(X_train.shape)\n",
        "print(X_test.shape)\n",
        "\n",
        "input_shape = (X_train.shape[1:])\n",
        "print(input_shape)"
      ],
      "execution_count": 4,
      "outputs": [
        {
          "output_type": "stream",
          "text": [
            "(60000, 28, 28, 1)\n",
            "(10000, 28, 28, 1)\n",
            "(28, 28, 1)\n"
          ],
          "name": "stdout"
        }
      ]
    },
    {
      "metadata": {
        "id": "I3HfG7LuCJVh",
        "colab_type": "text"
      },
      "cell_type": "markdown",
      "source": [
        "# Building Model"
      ]
    },
    {
      "metadata": {
        "id": "6GQKxCXCCT_g",
        "colab_type": "code",
        "colab": {}
      },
      "cell_type": "code",
      "source": [
        "model = Sequential()\n",
        "\n",
        "model.add(Conv2D(32, kernel_size=(3,3), activation='relu', input_shape=input_shape))\n",
        "model.add(Conv2D(64, (3,3), activation='relu'))\n",
        "model.add(MaxPooling2D(pool_size=(2,2)))\n",
        "model.add(Dropout(0.20))\n",
        "\n",
        "model.add(Conv2D(64, (3,3), activation='relu'))\n",
        "model.add(MaxPooling2D(pool_size=(2,2)))\n",
        "model.add(Dropout(0.20))\n",
        "\n",
        "model.add(Flatten())\n",
        "model.add(Dense(128, activation='relu'))\n",
        "model.add(Dropout(0.20))\n",
        "\n",
        "model.add(Dense(10, activation='softmax'))\n",
        "\n"
      ],
      "execution_count": 0,
      "outputs": []
    },
    {
      "metadata": {
        "id": "iufdm4PkJCcO",
        "colab_type": "text"
      },
      "cell_type": "markdown",
      "source": [
        "# Training model "
      ]
    },
    {
      "metadata": {
        "id": "HzXlMCcyJmo8",
        "colab_type": "code",
        "colab": {
          "base_uri": "https://localhost:8080/",
          "height": 239
        },
        "outputId": "2e1c6825-aae7-41fd-d23c-3a8117142fb9"
      },
      "cell_type": "code",
      "source": [
        "model.compile(loss='categorical_crossentropy', optimizer='Adam', metrics=['accuracy'])\n",
        "\n",
        "batch_size=32\n",
        "\n",
        "model.fit(X_train, y_train, batch_size=batch_size, verbose=2, validation_split=0.2, epochs=5)"
      ],
      "execution_count": 6,
      "outputs": [
        {
          "output_type": "stream",
          "text": [
            "Train on 48000 samples, validate on 12000 samples\n",
            "Epoch 1/5\n",
            " - 22s - loss: 0.1845 - acc: 0.9426 - val_loss: 0.0595 - val_acc: 0.9817\n",
            "Epoch 2/5\n",
            " - 20s - loss: 0.0665 - acc: 0.9789 - val_loss: 0.0417 - val_acc: 0.9874\n",
            "Epoch 3/5\n",
            " - 20s - loss: 0.0496 - acc: 0.9844 - val_loss: 0.0323 - val_acc: 0.9901\n",
            "Epoch 4/5\n",
            " - 20s - loss: 0.0398 - acc: 0.9877 - val_loss: 0.0298 - val_acc: 0.9913\n",
            "Epoch 5/5\n",
            " - 20s - loss: 0.0312 - acc: 0.9905 - val_loss: 0.0296 - val_acc: 0.9925\n"
          ],
          "name": "stdout"
        },
        {
          "output_type": "execute_result",
          "data": {
            "text/plain": [
              "<keras.callbacks.History at 0x7fe768f83668>"
            ]
          },
          "metadata": {
            "tags": []
          },
          "execution_count": 6
        }
      ]
    },
    {
      "metadata": {
        "id": "DJ22DdZOq3pF",
        "colab_type": "code",
        "colab": {
          "base_uri": "https://localhost:8080/",
          "height": 54
        },
        "outputId": "79b6ed05-efdf-405a-9366-775c64669b0c"
      },
      "cell_type": "code",
      "source": [
        "loss , acc = model.evaluate(X_test, y_test, verbose=2)\n",
        "print(\"Test loss: \", loss)\n",
        "print(\"Test Accuracy: \", acc)"
      ],
      "execution_count": 7,
      "outputs": [
        {
          "output_type": "stream",
          "text": [
            "Test loss:  0.02267270633207372\n",
            "Test Accuracy:  0.9924\n"
          ],
          "name": "stdout"
        }
      ]
    },
    {
      "metadata": {
        "id": "jtsdwvZ1FRof",
        "colab_type": "code",
        "colab": {}
      },
      "cell_type": "code",
      "source": [
        ""
      ],
      "execution_count": 0,
      "outputs": []
    }
  ]
}