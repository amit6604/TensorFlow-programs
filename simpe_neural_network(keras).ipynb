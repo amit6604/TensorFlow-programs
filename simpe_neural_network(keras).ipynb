{
  "nbformat": 4,
  "nbformat_minor": 0,
  "metadata": {
    "colab": {
      "name": "simpe_neural_network(keras).ipynb",
      "version": "0.3.2",
      "provenance": [],
      "include_colab_link": true
    },
    "kernelspec": {
      "name": "python3",
      "display_name": "Python 3"
    }
  },
  "cells": [
    {
      "cell_type": "markdown",
      "metadata": {
        "id": "view-in-github",
        "colab_type": "text"
      },
      "source": [
        "[View in Colaboratory](https://colab.research.google.com/github/amit6604/TensofFlow-programs/blob/master/simpe_neural_network(keras).ipynb)"
      ]
    },
    {
      "metadata": {
        "id": "K3YzBFzHUEea",
        "colab_type": "code",
        "colab": {}
      },
      "cell_type": "code",
      "source": [
        "import tensorflow as tf\n",
        "mnist = tf.keras.datasets.mnist"
      ],
      "execution_count": 0,
      "outputs": []
    },
    {
      "metadata": {
        "id": "w16y2myWUp_y",
        "colab_type": "code",
        "colab": {
          "base_uri": "https://localhost:8080/",
          "height": 54
        },
        "outputId": "e7358d8d-bb00-4ef3-a1a1-2b553d5dddac"
      },
      "cell_type": "code",
      "source": [
        "(X_train, y_train), (X_test, y_test) = mnist.load_data()\n",
        "# Scales data between 0 and 1\n",
        "# we can also use X_train = tf.keras.utils.normalize(X_train, axis=1)\n",
        "X_train, X_test = X_train/255.0, X_test/255.0 "
      ],
      "execution_count": 2,
      "outputs": [
        {
          "output_type": "stream",
          "text": [
            "Downloading data from https://storage.googleapis.com/tensorflow/tf-keras-datasets/mnist.npz\n",
            "11493376/11490434 [==============================] - 0s 0us/step\n"
          ],
          "name": "stdout"
        }
      ]
    },
    {
      "metadata": {
        "id": "XBTubvaEVkCA",
        "colab_type": "code",
        "colab": {
          "base_uri": "https://localhost:8080/",
          "height": 813
        },
        "outputId": "8dd7da12-608e-4b24-baee-0290e034c780"
      },
      "cell_type": "code",
      "source": [
        "model = tf.keras.models.Sequential() # A basic feed forward model\n",
        "model.add(tf.keras.layers.Flatten())  # takes 28 x 28 images pixels and makes it 784\n",
        "model.add(tf.keras.layers.Dense(128, activation=tf.nn.relu)) # A simple fully-connected layer, 128 units, relu activation\n",
        "model.add(tf.keras.layers.Dense(128, activation=tf.nn.relu))\n",
        "model.add(tf.keras.layers.Dense(10, activation=tf.nn.softmax)) # output layer with 10 units for 10 classes softmax activation for probability distribution\n",
        "model.compile(optimizer= 'adam', # default optmizer to start with\n",
        "              loss='sparse_categorical_crossentropy',\n",
        "              metrics=['accuracy'])\n",
        "model.fit(X_train, y_train, epochs=20)\n",
        "loss, acc = model.evaluate(X_test, y_test)\n",
        "print(loss)\n",
        "print(acc)"
      ],
      "execution_count": 6,
      "outputs": [
        {
          "output_type": "stream",
          "text": [
            "Epoch 1/20\n",
            "60000/60000 [==============================] - 7s 124us/step - loss: 0.2300 - acc: 0.9322\n",
            "Epoch 2/20\n",
            "60000/60000 [==============================] - 7s 113us/step - loss: 0.0976 - acc: 0.9704\n",
            "Epoch 3/20\n",
            "60000/60000 [==============================] - 7s 112us/step - loss: 0.0684 - acc: 0.9785\n",
            "Epoch 4/20\n",
            "60000/60000 [==============================] - 8s 130us/step - loss: 0.0501 - acc: 0.9840\n",
            "Epoch 5/20\n",
            "60000/60000 [==============================] - 8s 127us/step - loss: 0.0403 - acc: 0.9871\n",
            "Epoch 6/20\n",
            "60000/60000 [==============================] - 7s 115us/step - loss: 0.0334 - acc: 0.9891\n",
            "Epoch 7/20\n",
            "60000/60000 [==============================] - 7s 119us/step - loss: 0.0286 - acc: 0.9905\n",
            "Epoch 8/20\n",
            "60000/60000 [==============================] - 7s 114us/step - loss: 0.0230 - acc: 0.9925\n",
            "Epoch 9/20\n",
            "60000/60000 [==============================] - 7s 112us/step - loss: 0.0213 - acc: 0.9933\n",
            "Epoch 10/20\n",
            "60000/60000 [==============================] - 7s 113us/step - loss: 0.0182 - acc: 0.9937\n",
            "Epoch 11/20\n",
            "60000/60000 [==============================] - 7s 113us/step - loss: 0.0155 - acc: 0.9948\n",
            "Epoch 12/20\n",
            "60000/60000 [==============================] - 7s 113us/step - loss: 0.0156 - acc: 0.9945\n",
            "Epoch 13/20\n",
            "60000/60000 [==============================] - 7s 112us/step - loss: 0.0127 - acc: 0.9959\n",
            "Epoch 14/20\n",
            "60000/60000 [==============================] - 7s 111us/step - loss: 0.0139 - acc: 0.9953\n",
            "Epoch 15/20\n",
            "60000/60000 [==============================] - 7s 111us/step - loss: 0.0122 - acc: 0.9962\n",
            "Epoch 16/20\n",
            "60000/60000 [==============================] - 7s 112us/step - loss: 0.0116 - acc: 0.9965\n",
            "Epoch 17/20\n",
            "60000/60000 [==============================] - 7s 113us/step - loss: 0.0115 - acc: 0.9959\n",
            "Epoch 18/20\n",
            "60000/60000 [==============================] - 7s 113us/step - loss: 0.0105 - acc: 0.9968\n",
            "Epoch 19/20\n",
            "60000/60000 [==============================] - 7s 114us/step - loss: 0.0124 - acc: 0.9961\n",
            "Epoch 20/20\n",
            "60000/60000 [==============================] - 7s 113us/step - loss: 0.0098 - acc: 0.9968\n",
            "10000/10000 [==============================] - 0s 30us/step\n",
            "0.10656222704010979\n",
            "0.9817\n"
          ],
          "name": "stdout"
        }
      ]
    },
    {
      "metadata": {
        "id": "FLylWy3sXvSg",
        "colab_type": "code",
        "colab": {}
      },
      "cell_type": "code",
      "source": [
        "# To save model \n",
        "model.save(\"my_model\")"
      ],
      "execution_count": 0,
      "outputs": []
    },
    {
      "metadata": {
        "id": "lu2m2Vi1aBU-",
        "colab_type": "code",
        "colab": {}
      },
      "cell_type": "code",
      "source": [
        "# To load model back\n",
        "\n",
        "new_model = tf.keras.models.load_model('my_model')"
      ],
      "execution_count": 0,
      "outputs": []
    },
    {
      "metadata": {
        "id": "DvOft2MiaKWi",
        "colab_type": "code",
        "colab": {
          "base_uri": "https://localhost:8080/",
          "height": 258
        },
        "outputId": "9aeb28c0-8fdb-4a69-b295-3706c3a7c471"
      },
      "cell_type": "code",
      "source": [
        "# Make predictions\n",
        "predictions = new_model.predict(X_test)\n",
        "print(predictions)"
      ],
      "execution_count": 9,
      "outputs": [
        {
          "output_type": "stream",
          "text": [
            "[[1.9171786e-18 2.5479388e-13 1.4340279e-11 ... 1.0000000e+00\n",
            "  1.0000807e-14 7.9837822e-14]\n",
            " [8.1264847e-20 1.3947587e-12 1.0000000e+00 ... 1.3845842e-18\n",
            "  5.1816346e-19 1.2466535e-38]\n",
            " [1.0074838e-11 9.9999988e-01 1.2349555e-07 ... 6.3631383e-10\n",
            "  9.7193942e-09 6.5184132e-13]\n",
            " ...\n",
            " [5.2027619e-29 1.8799650e-21 1.2127585e-31 ... 2.7367329e-20\n",
            "  2.0570306e-16 1.8677019e-18]\n",
            " [2.0511018e-21 1.4801127e-27 2.1341247e-23 ... 4.9883954e-20\n",
            "  1.1936968e-12 2.2279543e-28]\n",
            " [2.4516817e-23 1.8640277e-27 1.6339095e-28 ... 2.5962417e-35\n",
            "  1.4286316e-21 4.3870373e-28]]\n"
          ],
          "name": "stdout"
        }
      ]
    },
    {
      "metadata": {
        "id": "bTD6M_ZHaTLy",
        "colab_type": "code",
        "colab": {
          "base_uri": "https://localhost:8080/",
          "height": 36
        },
        "outputId": "5acd41cf-f95f-4e2b-9a96-f03443c1a75d"
      },
      "cell_type": "code",
      "source": [
        "# check predictions\n",
        "\n",
        "import numpy as np\n",
        "print(np.argmax(predictions[1]))"
      ],
      "execution_count": 10,
      "outputs": [
        {
          "output_type": "stream",
          "text": [
            "2\n"
          ],
          "name": "stdout"
        }
      ]
    },
    {
      "metadata": {
        "id": "uvet611xae3v",
        "colab_type": "code",
        "colab": {
          "base_uri": "https://localhost:8080/",
          "height": 347
        },
        "outputId": "f5761243-c91e-4276-fd98-e2921361b0a1"
      },
      "cell_type": "code",
      "source": [
        "import matplotlib.pyplot as plt\n",
        "\n",
        "plt.imshow(X_test[1], cmap=plt.cm.binary)\n",
        "plt.show()"
      ],
      "execution_count": 11,
      "outputs": [
        {
          "output_type": "display_data",
          "data": {
            "image/png": "[encoded data removed]",
            "text/plain": [
              "<matplotlib.figure.Figure at 0x7f26b0690cc0>"
            ]
          },
          "metadata": {
            "tags": []
          }
        }
      ]
    },
    {
      "metadata": {
        "id": "6W_ODWLyas5Q",
        "colab_type": "code",
        "colab": {}
      },
      "cell_type": "code",
      "source": [
        ""
      ],
      "execution_count": 0,
      "outputs": []
    }
  ]
}