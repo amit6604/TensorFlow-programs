{
  "nbformat": 4,
  "nbformat_minor": 0,
  "metadata": {
    "colab": {
      "name": "Logistic Regression(keras).ipynb",
      "version": "0.3.2",
      "provenance": []
    },
    "kernelspec": {
      "name": "python3",
      "display_name": "Python 3"
    },
    "accelerator": "GPU"
  },
  "cells": [
    {
      "metadata": {
        "id": "AVgBB05s23k7",
        "colab_type": "code",
        "colab": {
          "base_uri": "https://localhost:8080/",
          "height": 36
        },
        "outputId": "0d0f84c5-6687-49f5-df55-2d7eba64b2e4"
      },
      "cell_type": "code",
      "source": [
        "# Importing Libraries\n",
        "\n",
        "import numpy as np\n",
        "from keras.models import Sequential, load_model\n",
        "from keras.layers import Dense, Flatten, Dropout, Activation\n",
        "import tensorflow as tf\n",
        "import matplotlib.pyplot as plt\n",
        "from keras.utils import np_utils, normalize"
      ],
      "execution_count": 1,
      "outputs": [
        {
          "output_type": "stream",
          "text": [
            "Using TensorFlow backend.\n"
          ],
          "name": "stderr"
        }
      ]
    },
    {
      "metadata": {
        "id": "1LmXK6WT3g5-",
        "colab_type": "code",
        "colab": {
          "base_uri": "https://localhost:8080/",
          "height": 54
        },
        "outputId": "9efd80a5-79ec-4e70-f207-b67920ed52ca"
      },
      "cell_type": "code",
      "source": [
        "# Importing Mnist dataset\n",
        "\n",
        "from keras.datasets import mnist\n",
        "(X_train, y_train), (X_test, y_test) = mnist.load_data()\n",
        "\n",
        "X_train = X_train.reshape(X_train.shape[0], 1, 28, 28)\n",
        "X_test = X_test.reshape(X_test.shape[0], 1, 28, 28)\n",
        "\n",
        "X_train = X_train.astype('float32')\n",
        "X_test = X_test.astype('float32')\n",
        "X_train = normalize(X_train, axis=1)\n",
        "X_test = normalize(X_test, axis=1)\n"
      ],
      "execution_count": 2,
      "outputs": [
        {
          "output_type": "stream",
          "text": [
            "Downloading data from https://s3.amazonaws.com/img-datasets/mnist.npz\n",
            "11493376/11490434 [==============================] - 6s 1us/step\n"
          ],
          "name": "stdout"
        }
      ]
    },
    {
      "metadata": {
        "id": "gvU6TEC2DeRS",
        "colab_type": "code",
        "colab": {}
      },
      "cell_type": "code",
      "source": [
        "# np.utils.to_categorical is used to convert array of labeled data(from 0 to nb_classes-1) to one-hot vector. \n",
        "y_train = np_utils.to_categorical(y_train, 10)\n",
        "y_test = np_utils.to_categorical(y_test, 10)\n"
      ],
      "execution_count": 0,
      "outputs": []
    },
    {
      "metadata": {
        "id": "JP1ap5wF4FF5",
        "colab_type": "code",
        "colab": {
          "base_uri": "https://localhost:8080/",
          "height": 443
        },
        "outputId": "0a7509de-a969-44a3-e36e-a2ad8b2f7f59"
      },
      "cell_type": "code",
      "source": [
        "# Build Model\n",
        "\n",
        "model = Sequential() # A basic feed forward model\n",
        "model.add(Flatten(input_shape=(1,28,28)))  # takes 28x28 and makes it 784\n",
        "model.add(Dense(128, activation='relu'))  # A simple fully connected layer\n",
        "model.add(Dense(128, activation='relu'))\n",
        "model.add(Dense(10, activation='softmax')) # output layer 10 units for 0-9 classes\n",
        "\n",
        "model.compile(optimizer='adam', loss='categorical_crossentropy', metrics=['accuracy'])\n",
        "model.fit(X_train, y_train, epochs=10)\n",
        "\n",
        "val_loss, val_acc = model.evaluate(X_test, y_test)\n",
        "\n",
        "print('Test Loss: ', val_loss)\n",
        "print('Test accuracy: ', val_acc)"
      ],
      "execution_count": 4,
      "outputs": [
        {
          "output_type": "stream",
          "text": [
            "Epoch 1/10\n",
            "60000/60000 [==============================] - 12s 203us/step - loss: 0.2483 - acc: 0.9239\n",
            "Epoch 2/10\n",
            "60000/60000 [==============================] - 12s 192us/step - loss: 0.1149 - acc: 0.9648\n",
            "Epoch 3/10\n",
            "60000/60000 [==============================] - 12s 193us/step - loss: 0.0834 - acc: 0.9734\n",
            "Epoch 4/10\n",
            "60000/60000 [==============================] - 11s 191us/step - loss: 0.0663 - acc: 0.9790\n",
            "Epoch 5/10\n",
            "60000/60000 [==============================] - 12s 193us/step - loss: 0.0538 - acc: 0.9822\n",
            "Epoch 6/10\n",
            "60000/60000 [==============================] - 11s 191us/step - loss: 0.0441 - acc: 0.9859\n",
            "Epoch 7/10\n",
            "60000/60000 [==============================] - 11s 191us/step - loss: 0.0376 - acc: 0.9870\n",
            "Epoch 8/10\n",
            "60000/60000 [==============================] - 11s 191us/step - loss: 0.0325 - acc: 0.9890\n",
            "Epoch 9/10\n",
            "60000/60000 [==============================] - 11s 191us/step - loss: 0.0297 - acc: 0.9896\n",
            "Epoch 10/10\n",
            "60000/60000 [==============================] - 11s 189us/step - loss: 0.0241 - acc: 0.9919\n",
            "10000/10000 [==============================] - 1s 72us/step\n",
            "Test Loss:  0.1135134028483546\n",
            "Test accuracy:  0.9732\n"
          ],
          "name": "stdout"
        }
      ]
    },
    {
      "metadata": {
        "id": "GqF_AKx-9UhA",
        "colab_type": "code",
        "colab": {
          "base_uri": "https://localhost:8080/",
          "height": 295
        },
        "outputId": "d864d98d-6f56-41f4-fb75-c5c479dbb607"
      },
      "cell_type": "code",
      "source": [
        "# Saving model\n",
        "\n",
        "model.save('mnist.model')\n",
        "\n",
        "model.summary()"
      ],
      "execution_count": 5,
      "outputs": [
        {
          "output_type": "stream",
          "text": [
            "_________________________________________________________________\n",
            "Layer (type)                 Output Shape              Param #   \n",
            "=================================================================\n",
            "flatten_1 (Flatten)          (None, 784)               0         \n",
            "_________________________________________________________________\n",
            "dense_1 (Dense)              (None, 128)               100480    \n",
            "_________________________________________________________________\n",
            "dense_2 (Dense)              (None, 128)               16512     \n",
            "_________________________________________________________________\n",
            "dense_3 (Dense)              (None, 10)                1290      \n",
            "=================================================================\n",
            "Total params: 118,282\n",
            "Trainable params: 118,282\n",
            "Non-trainable params: 0\n",
            "_________________________________________________________________\n"
          ],
          "name": "stdout"
        }
      ]
    },
    {
      "metadata": {
        "id": "Q2gMMi8K9X0K",
        "colab_type": "code",
        "colab": {
          "base_uri": "https://localhost:8080/",
          "height": 295
        },
        "outputId": "4d5677a7-9d89-47e2-c034-30d9dd943af1"
      },
      "cell_type": "code",
      "source": [
        "# Loading model back\n",
        "\n",
        "mnist_model = load_model('mnist.model')\n",
        "\n",
        "mnist_model.summary()"
      ],
      "execution_count": 6,
      "outputs": [
        {
          "output_type": "stream",
          "text": [
            "_________________________________________________________________\n",
            "Layer (type)                 Output Shape              Param #   \n",
            "=================================================================\n",
            "flatten_1 (Flatten)          (None, 784)               0         \n",
            "_________________________________________________________________\n",
            "dense_1 (Dense)              (None, 128)               100480    \n",
            "_________________________________________________________________\n",
            "dense_2 (Dense)              (None, 128)               16512     \n",
            "_________________________________________________________________\n",
            "dense_3 (Dense)              (None, 10)                1290      \n",
            "=================================================================\n",
            "Total params: 118,282\n",
            "Trainable params: 118,282\n",
            "Non-trainable params: 0\n",
            "_________________________________________________________________\n"
          ],
          "name": "stdout"
        }
      ]
    },
    {
      "metadata": {
        "id": "_4L-IowXHWXg",
        "colab_type": "text"
      },
      "cell_type": "markdown",
      "source": [
        "# Make Prediction"
      ]
    },
    {
      "metadata": {
        "id": "cVHR3hzjHo_n",
        "colab_type": "code",
        "colab": {
          "base_uri": "https://localhost:8080/",
          "height": 258
        },
        "outputId": "292f1977-bc95-46a9-f416-a71c6f2e0f08"
      },
      "cell_type": "code",
      "source": [
        "predictions = mnist_model.predict(X_test)\n",
        "\n",
        "print(predictions)"
      ],
      "execution_count": 7,
      "outputs": [
        {
          "output_type": "stream",
          "text": [
            "[[2.6958416e-15 9.6126102e-13 5.7093674e-13 ... 9.9999988e-01\n",
            "  1.6700794e-14 1.1898840e-07]\n",
            " [3.2532439e-16 3.1977443e-10 1.0000000e+00 ... 1.3527755e-11\n",
            "  2.0527356e-15 4.0968432e-16]\n",
            " [5.2814145e-11 9.9999595e-01 2.2476239e-07 ... 9.6654946e-07\n",
            "  2.6490188e-06 2.7265324e-11]\n",
            " ...\n",
            " [1.5297094e-18 7.1641751e-12 2.2529245e-15 ... 2.4646541e-12\n",
            "  8.9500195e-12 2.0527821e-08]\n",
            " [1.6590960e-12 4.1564736e-08 1.4911493e-12 ... 2.2683588e-13\n",
            "  1.2202158e-08 1.4050785e-12]\n",
            " [9.7088483e-11 7.0206599e-18 1.2883384e-12 ... 2.3548699e-16\n",
            "  4.3755302e-10 7.9704507e-12]]\n"
          ],
          "name": "stdout"
        }
      ]
    },
    {
      "metadata": {
        "id": "NsOXKZV9Hz9n",
        "colab_type": "code",
        "colab": {
          "base_uri": "https://localhost:8080/",
          "height": 73
        },
        "outputId": "a88825f3-7c53-414b-d5b2-2d65c2136d98"
      },
      "cell_type": "code",
      "source": [
        "print(np.argmax((predictions[2])))\n",
        "print(np.argmax((predictions[0])))\n",
        "print(np.argmax((predictions[1])))"
      ],
      "execution_count": 19,
      "outputs": [
        {
          "output_type": "stream",
          "text": [
            "1\n",
            "7\n",
            "2\n"
          ],
          "name": "stdout"
        }
      ]
    },
    {
      "metadata": {
        "id": "u8TGhOCJH6W8",
        "colab_type": "code",
        "colab": {
          "base_uri": "https://localhost:8080/",
          "height": 244
        },
        "outputId": "fcfbda35-7496-448a-adee-633b8454d43a"
      },
      "cell_type": "code",
      "source": [
        "plt.subplot(321)\n",
        "plt.imshow(X_test[2][0])\n",
        "plt.subplot(322)\n",
        "plt.imshow(X_test[0][0])\n",
        "plt.subplot(323)\n",
        "plt.imshow(X_test[1][0])\n",
        "plt.show()"
      ],
      "execution_count": 20,
      "outputs": [
        {
          "output_type": "display_data",
          "data": {
            "image/png": "[encoded data removed]",
            "text/plain": [
              "<matplotlib.figure.Figure at 0x7f1fd3be4ac8>"
            ]
          },
          "metadata": {
            "tags": []
          }
        }
      ]
    },
    {
      "metadata": {
        "id": "fXE8y_LbJls1",
        "colab_type": "code",
        "colab": {}
      },
      "cell_type": "code",
      "source": [
        ""
      ],
      "execution_count": 0,
      "outputs": []
    }
  ]
}